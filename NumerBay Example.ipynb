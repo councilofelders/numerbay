{
 "cells": [
  {
   "cell_type": "code",
   "execution_count": 1,
   "id": "d696d26d-c480-4c08-9860-24e4bb1262fd",
   "metadata": {},
   "outputs": [],
   "source": [
    "import os\n",
    "from requests import Session"
   ]
  },
  {
   "cell_type": "code",
   "execution_count": 2,
   "id": "b33c6b76-2fd3-498b-9d18-b5cfe6ac6412",
   "metadata": {},
   "outputs": [],
   "source": [
    "BASE_API_URL = \"https://numerbay.ai/backend-api/v1\"\n",
    "\n",
    "NUMERBAY_USERNAME = \"YOUR_USERNAME\"\n",
    "NUMERBAY_PASSWORD = \"YOUR_PASSWORD\"\n",
    "\n",
    "PRODUCT_ID = 79  # change to your product ID\n",
    "PRODUCT_ARTIFACT_FILE = \"/app/notebooks/research/numerai/example_predictions.csv\"  # change to your file path"
   ]
  },
  {
   "cell_type": "code",
   "execution_count": 3,
   "id": "d6e38e80-5b5c-411e-9f79-94b00adb781a",
   "metadata": {},
   "outputs": [],
   "source": [
    "client = Session()"
   ]
  },
  {
   "cell_type": "markdown",
   "id": "c1bc1203-a3fc-496a-9274-06be89fca31b",
   "metadata": {},
   "source": [
    "# Login to get authentication token"
   ]
  },
  {
   "cell_type": "code",
   "execution_count": 4,
   "id": "d2707090-17e1-444d-8678-cb8f987500cf",
   "metadata": {},
   "outputs": [],
   "source": [
    "login_data = {\n",
    "    \"username\": NUMERBAY_USERNAME,\n",
    "    \"password\": NUMERBAY_PASSWORD\n",
    "}\n",
    "\n",
    "r = client.post(f\"{BASE_API_URL}/login/access-token\", data=login_data)"
   ]
  },
  {
   "cell_type": "code",
   "execution_count": 5,
   "id": "a9881240-2618-42fe-b84e-8c060a7de9eb",
   "metadata": {},
   "outputs": [],
   "source": [
    "access_token = r.json()['access_token']"
   ]
  },
  {
   "cell_type": "code",
   "execution_count": 6,
   "id": "72b60ee8-30ee-437f-92e6-7a8e3fe06dad",
   "metadata": {},
   "outputs": [],
   "source": [
    "# Add the token header to the client for all subsequent queries\n",
    "\n",
    "client.headers = {\"Authorization\": f\"Bearer {access_token}\"}"
   ]
  },
  {
   "cell_type": "markdown",
   "id": "7b6709aa-5aed-494b-b49f-e04a1fb77622",
   "metadata": {},
   "source": [
    "# List product artifacts"
   ]
  },
  {
   "cell_type": "code",
   "execution_count": 7,
   "id": "8eb9a5f8-e06f-46f0-a3c2-d33577520ad0",
   "metadata": {},
   "outputs": [],
   "source": [
    "r = client.get(\n",
    "    f\"{BASE_API_URL}/products/{PRODUCT_ID}/artifacts\"\n",
    ")\n",
    "content = r.json()"
   ]
  },
  {
   "cell_type": "code",
   "execution_count": 8,
   "id": "0c7fb74b-4a50-4df3-b9fc-f072a582082f",
   "metadata": {},
   "outputs": [
    {
     "data": {
      "text/plain": [
       "{'total': 0, 'data': []}"
      ]
     },
     "execution_count": 8,
     "metadata": {},
     "output_type": "execute_result"
    }
   ],
   "source": [
    "content"
   ]
  },
  {
   "cell_type": "markdown",
   "id": "aee54d0d-3638-4323-9861-163bed783f21",
   "metadata": {},
   "source": [
    "# Generate upload URL for product artifact"
   ]
  },
  {
   "cell_type": "code",
   "execution_count": 9,
   "id": "d5d174c2-c383-44bb-95ac-b90d6638b7c4",
   "metadata": {},
   "outputs": [],
   "source": [
    "artifact_data = {\n",
    "    \"filename\": os.path.basename(PRODUCT_ARTIFACT_FILE)  # for convenience we don't add the optional file size info here\n",
    "}\n",
    "\n",
    "r = client.post(\n",
    "    f\"{BASE_API_URL}/products/{PRODUCT_ID}/artifacts/generate-upload-url\",\n",
    "    data=artifact_data,\n",
    ")\n",
    "\n",
    "content = r.json()\n",
    "artifact_id = content['id']\n",
    "upload_url = content['url']"
   ]
  },
  {
   "cell_type": "markdown",
   "id": "0128d09f-d42e-48e2-b8bc-fd9f4b24bb1d",
   "metadata": {},
   "source": [
    "# Upload the file to the generated URL"
   ]
  },
  {
   "cell_type": "code",
   "execution_count": 10,
   "id": "5424a3fd-0f0c-418e-a975-efdb09f2c44b",
   "metadata": {},
   "outputs": [],
   "source": [
    "r = client.put(upload_url, data=open(PRODUCT_ARTIFACT_FILE, 'rb'), headers={\"Content-type\": \"application/octet-stream\"})  # The header override is important"
   ]
  },
  {
   "cell_type": "markdown",
   "id": "fcdfe191-ff7a-419a-aaa8-50595b46d15a",
   "metadata": {},
   "source": [
    "# Validate the upload\n",
    "If the upload was a success by calling the API below, you will receive an artifact upload success email. Confirmed buyers will receive their notifications and submissions as well."
   ]
  },
  {
   "cell_type": "code",
   "execution_count": 11,
   "id": "7bc3a801-034a-454c-8587-d74ea227c136",
   "metadata": {},
   "outputs": [],
   "source": [
    "r = client.post(\n",
    "    f\"{BASE_API_URL}/products/{PRODUCT_ID}/artifacts/{artifact_id}/validate-upload\",\n",
    ")"
   ]
  },
  {
   "cell_type": "code",
   "execution_count": 12,
   "id": "7ea2e2d7-dd02-4066-90e2-683d5e773312",
   "metadata": {},
   "outputs": [
    {
     "data": {
      "text/plain": [
       "200"
      ]
     },
     "execution_count": 12,
     "metadata": {},
     "output_type": "execute_result"
    }
   ],
   "source": [
    "r.status_code  # this would be 404 if the upload failed"
   ]
  },
  {
   "cell_type": "markdown",
   "id": "7139e75c-ef38-4071-99d7-7d58028eca76",
   "metadata": {},
   "source": [
    "# List product artifacts"
   ]
  },
  {
   "cell_type": "code",
   "execution_count": 13,
   "id": "2d9d80cd-5d5d-486f-9f6e-b2afe3f73ec6",
   "metadata": {},
   "outputs": [],
   "source": [
    "r = client.get(\n",
    "    f\"{BASE_API_URL}/products/{PRODUCT_ID}/artifacts\",\n",
    ")\n",
    "content = r.json()"
   ]
  },
  {
   "cell_type": "code",
   "execution_count": 14,
   "id": "a17c2791-6492-4f39-b00b-7939dc074975",
   "metadata": {},
   "outputs": [
    {
     "data": {
      "text/plain": [
       "{'total': 1,\n",
       " 'data': [{'date': '2021-10-13T16:01:38.805287',\n",
       "   'round_tournament': 286,\n",
       "   'description': None,\n",
       "   'url': None,\n",
       "   'object_name': 'numerai-predictions-numerbay_286_f44d046b650642b4b9476ddfb04b2d65.csv',\n",
       "   'object_size': None,\n",
       "   'state': 'active',\n",
       "   'id': 123,\n",
       "   'product_id': 79}]}"
      ]
     },
     "execution_count": 14,
     "metadata": {},
     "output_type": "execute_result"
    }
   ],
   "source": [
    "content"
   ]
  },
  {
   "cell_type": "code",
   "execution_count": null,
   "id": "67701e53-70f6-40ad-af81-fa75f2b8ce33",
   "metadata": {},
   "outputs": [],
   "source": []
  }
 ],
 "metadata": {
  "kernelspec": {
   "display_name": "Python 3",
   "language": "python",
   "name": "python3"
  },
  "language_info": {
   "codemirror_mode": {
    "name": "ipython",
    "version": 3
   },
   "file_extension": ".py",
   "mimetype": "text/x-python",
   "name": "python",
   "nbconvert_exporter": "python",
   "pygments_lexer": "ipython3",
   "version": "3.7.10"
  }
 },
 "nbformat": 4,
 "nbformat_minor": 5
}
