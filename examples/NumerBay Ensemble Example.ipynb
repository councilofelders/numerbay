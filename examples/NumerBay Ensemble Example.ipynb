{
 "cells": [
  {
   "cell_type": "markdown",
   "id": "d46cdd62-8cbc-4f6d-8ae7-87aab3cbd829",
   "metadata": {},
   "source": [
    "# Ensemble with NumerBay\n",
    "\n",
    "In this notebook we are going to make a simple ensemble Numerai predictions file from predictions bought on NumerBay, using the `numerbay` Python client.\n",
    "\n",
    "Ensembling tends to lower variance and improve accuracy, and we want these for the Numerai tournaments.\n",
    "\n",
    "Replace with your credentials below and change `products_to_ensemble` to the full names of the prediction files you have bought on NumerBay.\n",
    "Products you buy need to be listed in \"File\" mode so that you can download the files."
   ]
  },
  {
   "cell_type": "code",
   "execution_count": 1,
   "id": "0901dd0d-c914-418a-af11-cf2506983db4",
   "metadata": {},
   "outputs": [],
   "source": [
    "# Install the Python client if you have not (uncomment below)\n",
    "\n",
    "# !pip install numerbay"
   ]
  },
  {
   "cell_type": "code",
   "execution_count": 2,
   "id": "e66b46c6-c6a8-43e5-b7af-eabfe83e182b",
   "metadata": {},
   "outputs": [],
   "source": [
    "import pandas as pd\n",
    "from numerbay import NumerBay\n",
    "\n",
    "api = NumerBay(username=\"myusername\", password=\"mypassword\")"
   ]
  },
  {
   "cell_type": "markdown",
   "id": "dc102ea0-b0bd-4b1a-8669-8e5854d69447",
   "metadata": {},
   "source": [
    "## Download predictions from NumerBay\n",
    "\n",
    "I bought two products: `numerai-predictions-numerbay` and `numerai-predictions-numerbay2`"
   ]
  },
  {
   "cell_type": "code",
   "execution_count": 3,
   "id": "ec555c6c-5fe2-4be0-a295-2055385c04ab",
   "metadata": {},
   "outputs": [
    {
     "name": "stderr",
     "output_type": "stream",
     "text": [
      "2022-01-09 07:26:56,369 INFO numerbay.utils: starting download\n",
      "numerai-predictions-numerbay.csv: 47.6MB [00:03, 12.7MB/s]                            \n",
      "2022-01-09 07:27:04,072 INFO numerbay.utils: starting download\n",
      "numerai-predictions-numerbay2.csv: 35.3MB [00:03, 9.34MB/s]                            \n"
     ]
    }
   ],
   "source": [
    "products_to_ensemble = [\"numerai-predictions-numerbay\", \"numerai-predictions-numerbay2\"]\n",
    "\n",
    "for product_name in products_to_ensemble:\n",
    "    api.download_artifact(f\"{product_name}.csv\", product_full_name=product_name)"
   ]
  },
  {
   "cell_type": "markdown",
   "id": "5f495ec9-7622-41f1-80f6-ca6fde48ed66",
   "metadata": {},
   "source": [
    "## Read downloaded predictions"
   ]
  },
  {
   "cell_type": "code",
   "execution_count": 4,
   "id": "12d9f928-a99d-4b93-8809-b70b8b213b7a",
   "metadata": {},
   "outputs": [],
   "source": [
    "all_preds = [pd.read_csv(f\"{product_name}.csv\", index_col=0).add_suffix(f\"_{product_name}\") for product_name in products_to_ensemble]\n",
    "\n",
    "concat_preds = pd.concat(all_preds, axis=1, names=products_to_ensemble)"
   ]
  },
  {
   "cell_type": "code",
   "execution_count": 5,
   "id": "4e96379c-bfc0-4301-9c27-4857146074f2",
   "metadata": {},
   "outputs": [
    {
     "data": {
      "text/html": [
       "<div>\n",
       "<style scoped>\n",
       "    .dataframe tbody tr th:only-of-type {\n",
       "        vertical-align: middle;\n",
       "    }\n",
       "\n",
       "    .dataframe tbody tr th {\n",
       "        vertical-align: top;\n",
       "    }\n",
       "\n",
       "    .dataframe thead th {\n",
       "        text-align: right;\n",
       "    }\n",
       "</style>\n",
       "<table border=\"1\" class=\"dataframe\">\n",
       "  <thead>\n",
       "    <tr style=\"text-align: right;\">\n",
       "      <th></th>\n",
       "      <th>prediction_numerai-predictions-numerbay</th>\n",
       "      <th>prediction_numerai-predictions-numerbay2</th>\n",
       "    </tr>\n",
       "    <tr>\n",
       "      <th>id</th>\n",
       "      <th></th>\n",
       "      <th></th>\n",
       "    </tr>\n",
       "  </thead>\n",
       "  <tbody>\n",
       "    <tr>\n",
       "      <th>n0003aa52cab36c2</th>\n",
       "      <td>0.48919</td>\n",
       "      <td>NaN</td>\n",
       "    </tr>\n",
       "    <tr>\n",
       "      <th>n000920ed083903f</th>\n",
       "      <td>0.49109</td>\n",
       "      <td>NaN</td>\n",
       "    </tr>\n",
       "    <tr>\n",
       "      <th>n0038e640522c4a6</th>\n",
       "      <td>0.53275</td>\n",
       "      <td>NaN</td>\n",
       "    </tr>\n",
       "    <tr>\n",
       "      <th>n004ac94a87dc54b</th>\n",
       "      <td>0.50717</td>\n",
       "      <td>NaN</td>\n",
       "    </tr>\n",
       "    <tr>\n",
       "      <th>n0052fe97ea0c05f</th>\n",
       "      <td>0.50383</td>\n",
       "      <td>NaN</td>\n",
       "    </tr>\n",
       "    <tr>\n",
       "      <th>...</th>\n",
       "      <td>...</td>\n",
       "      <td>...</td>\n",
       "    </tr>\n",
       "    <tr>\n",
       "      <th>nffcf1b2f7ae1bcc</th>\n",
       "      <td>0.48928</td>\n",
       "      <td>0.06814</td>\n",
       "    </tr>\n",
       "    <tr>\n",
       "      <th>nffcf5878d59ce3a</th>\n",
       "      <td>0.48988</td>\n",
       "      <td>0.61441</td>\n",
       "    </tr>\n",
       "    <tr>\n",
       "      <th>nffdfeb228cda39f</th>\n",
       "      <td>0.49429</td>\n",
       "      <td>0.37674</td>\n",
       "    </tr>\n",
       "    <tr>\n",
       "      <th>nffe33484b9de099</th>\n",
       "      <td>0.51979</td>\n",
       "      <td>0.31049</td>\n",
       "    </tr>\n",
       "    <tr>\n",
       "      <th>nfffbcd69b65bc3a</th>\n",
       "      <td>0.51032</td>\n",
       "      <td>0.75062</td>\n",
       "    </tr>\n",
       "  </tbody>\n",
       "</table>\n",
       "<p>1902818 rows × 2 columns</p>\n",
       "</div>"
      ],
      "text/plain": [
       "                  prediction_numerai-predictions-numerbay  \\\n",
       "id                                                          \n",
       "n0003aa52cab36c2                                  0.48919   \n",
       "n000920ed083903f                                  0.49109   \n",
       "n0038e640522c4a6                                  0.53275   \n",
       "n004ac94a87dc54b                                  0.50717   \n",
       "n0052fe97ea0c05f                                  0.50383   \n",
       "...                                                   ...   \n",
       "nffcf1b2f7ae1bcc                                  0.48928   \n",
       "nffcf5878d59ce3a                                  0.48988   \n",
       "nffdfeb228cda39f                                  0.49429   \n",
       "nffe33484b9de099                                  0.51979   \n",
       "nfffbcd69b65bc3a                                  0.51032   \n",
       "\n",
       "                  prediction_numerai-predictions-numerbay2  \n",
       "id                                                          \n",
       "n0003aa52cab36c2                                       NaN  \n",
       "n000920ed083903f                                       NaN  \n",
       "n0038e640522c4a6                                       NaN  \n",
       "n004ac94a87dc54b                                       NaN  \n",
       "n0052fe97ea0c05f                                       NaN  \n",
       "...                                                    ...  \n",
       "nffcf1b2f7ae1bcc                                   0.06814  \n",
       "nffcf5878d59ce3a                                   0.61441  \n",
       "nffdfeb228cda39f                                   0.37674  \n",
       "nffe33484b9de099                                   0.31049  \n",
       "nfffbcd69b65bc3a                                   0.75062  \n",
       "\n",
       "[1902818 rows x 2 columns]"
      ]
     },
     "execution_count": 5,
     "metadata": {},
     "output_type": "execute_result"
    }
   ],
   "source": [
    "concat_preds"
   ]
  },
  {
   "cell_type": "markdown",
   "id": "c1887fbc-6d77-4875-8586-715e26b810d1",
   "metadata": {},
   "source": [
    "We can see that the two predictions files are not aligned. This is because the first one is a legacy submission file and the second one is a v2 submission file.\n",
    "\n",
    "We would need to drop the NaNs so that the predictions are aligned."
   ]
  },
  {
   "cell_type": "code",
   "execution_count": 6,
   "id": "ac513817-f65d-49de-a5f3-00df1593ca9a",
   "metadata": {},
   "outputs": [],
   "source": [
    "concat_preds = concat_preds.dropna(how='any')"
   ]
  },
  {
   "cell_type": "code",
   "execution_count": 7,
   "id": "b5ed78af-1476-4bce-ae19-a3d848e7a20e",
   "metadata": {},
   "outputs": [
    {
     "data": {
      "text/html": [
       "<div>\n",
       "<style scoped>\n",
       "    .dataframe tbody tr th:only-of-type {\n",
       "        vertical-align: middle;\n",
       "    }\n",
       "\n",
       "    .dataframe tbody tr th {\n",
       "        vertical-align: top;\n",
       "    }\n",
       "\n",
       "    .dataframe thead th {\n",
       "        text-align: right;\n",
       "    }\n",
       "</style>\n",
       "<table border=\"1\" class=\"dataframe\">\n",
       "  <thead>\n",
       "    <tr style=\"text-align: right;\">\n",
       "      <th></th>\n",
       "      <th>prediction_numerai-predictions-numerbay</th>\n",
       "      <th>prediction_numerai-predictions-numerbay2</th>\n",
       "    </tr>\n",
       "    <tr>\n",
       "      <th>id</th>\n",
       "      <th></th>\n",
       "      <th></th>\n",
       "    </tr>\n",
       "  </thead>\n",
       "  <tbody>\n",
       "    <tr>\n",
       "      <th>n000101811a8a843</th>\n",
       "      <td>0.50016</td>\n",
       "      <td>0.03255</td>\n",
       "    </tr>\n",
       "    <tr>\n",
       "      <th>n001e1318d5072ac</th>\n",
       "      <td>0.50311</td>\n",
       "      <td>0.33838</td>\n",
       "    </tr>\n",
       "    <tr>\n",
       "      <th>n002a9c5ab785cbb</th>\n",
       "      <td>0.50197</td>\n",
       "      <td>0.48398</td>\n",
       "    </tr>\n",
       "    <tr>\n",
       "      <th>n002ccf6d0e8c5ad</th>\n",
       "      <td>0.51080</td>\n",
       "      <td>0.96371</td>\n",
       "    </tr>\n",
       "    <tr>\n",
       "      <th>n0051ab821295c29</th>\n",
       "      <td>0.48718</td>\n",
       "      <td>0.22107</td>\n",
       "    </tr>\n",
       "    <tr>\n",
       "      <th>...</th>\n",
       "      <td>...</td>\n",
       "      <td>...</td>\n",
       "    </tr>\n",
       "    <tr>\n",
       "      <th>nffcf1b2f7ae1bcc</th>\n",
       "      <td>0.48928</td>\n",
       "      <td>0.06814</td>\n",
       "    </tr>\n",
       "    <tr>\n",
       "      <th>nffcf5878d59ce3a</th>\n",
       "      <td>0.48988</td>\n",
       "      <td>0.61441</td>\n",
       "    </tr>\n",
       "    <tr>\n",
       "      <th>nffdfeb228cda39f</th>\n",
       "      <td>0.49429</td>\n",
       "      <td>0.37674</td>\n",
       "    </tr>\n",
       "    <tr>\n",
       "      <th>nffe33484b9de099</th>\n",
       "      <td>0.51979</td>\n",
       "      <td>0.31049</td>\n",
       "    </tr>\n",
       "    <tr>\n",
       "      <th>nfffbcd69b65bc3a</th>\n",
       "      <td>0.51032</td>\n",
       "      <td>0.75062</td>\n",
       "    </tr>\n",
       "  </tbody>\n",
       "</table>\n",
       "<p>1412942 rows × 2 columns</p>\n",
       "</div>"
      ],
      "text/plain": [
       "                  prediction_numerai-predictions-numerbay  \\\n",
       "id                                                          \n",
       "n000101811a8a843                                  0.50016   \n",
       "n001e1318d5072ac                                  0.50311   \n",
       "n002a9c5ab785cbb                                  0.50197   \n",
       "n002ccf6d0e8c5ad                                  0.51080   \n",
       "n0051ab821295c29                                  0.48718   \n",
       "...                                                   ...   \n",
       "nffcf1b2f7ae1bcc                                  0.48928   \n",
       "nffcf5878d59ce3a                                  0.48988   \n",
       "nffdfeb228cda39f                                  0.49429   \n",
       "nffe33484b9de099                                  0.51979   \n",
       "nfffbcd69b65bc3a                                  0.51032   \n",
       "\n",
       "                  prediction_numerai-predictions-numerbay2  \n",
       "id                                                          \n",
       "n000101811a8a843                                   0.03255  \n",
       "n001e1318d5072ac                                   0.33838  \n",
       "n002a9c5ab785cbb                                   0.48398  \n",
       "n002ccf6d0e8c5ad                                   0.96371  \n",
       "n0051ab821295c29                                   0.22107  \n",
       "...                                                    ...  \n",
       "nffcf1b2f7ae1bcc                                   0.06814  \n",
       "nffcf5878d59ce3a                                   0.61441  \n",
       "nffdfeb228cda39f                                   0.37674  \n",
       "nffe33484b9de099                                   0.31049  \n",
       "nfffbcd69b65bc3a                                   0.75062  \n",
       "\n",
       "[1412942 rows x 2 columns]"
      ]
     },
     "execution_count": 7,
     "metadata": {},
     "output_type": "execute_result"
    }
   ],
   "source": [
    "concat_preds"
   ]
  },
  {
   "cell_type": "markdown",
   "id": "b2de5998-c54f-49a5-a7a1-58bb83f2885b",
   "metadata": {},
   "source": [
    "## Ensemble by simple average\n",
    "\n",
    "For demo purpose we do a simple average ensemble here. You can of course try other methods such as rank-averaged predictions, etc."
   ]
  },
  {
   "cell_type": "code",
   "execution_count": 8,
   "id": "051dbf16-c437-4302-86de-841ebc5f7522",
   "metadata": {},
   "outputs": [],
   "source": [
    "ensemble_preds = concat_preds.mean(axis=1).rename('prediction').to_frame()"
   ]
  },
  {
   "cell_type": "code",
   "execution_count": 9,
   "id": "38b9d57e-7609-4982-aa28-092dfa275145",
   "metadata": {},
   "outputs": [
    {
     "data": {
      "text/html": [
       "<div>\n",
       "<style scoped>\n",
       "    .dataframe tbody tr th:only-of-type {\n",
       "        vertical-align: middle;\n",
       "    }\n",
       "\n",
       "    .dataframe tbody tr th {\n",
       "        vertical-align: top;\n",
       "    }\n",
       "\n",
       "    .dataframe thead th {\n",
       "        text-align: right;\n",
       "    }\n",
       "</style>\n",
       "<table border=\"1\" class=\"dataframe\">\n",
       "  <thead>\n",
       "    <tr style=\"text-align: right;\">\n",
       "      <th></th>\n",
       "      <th>prediction</th>\n",
       "    </tr>\n",
       "    <tr>\n",
       "      <th>id</th>\n",
       "      <th></th>\n",
       "    </tr>\n",
       "  </thead>\n",
       "  <tbody>\n",
       "    <tr>\n",
       "      <th>n000101811a8a843</th>\n",
       "      <td>0.266355</td>\n",
       "    </tr>\n",
       "    <tr>\n",
       "      <th>n001e1318d5072ac</th>\n",
       "      <td>0.420745</td>\n",
       "    </tr>\n",
       "    <tr>\n",
       "      <th>n002a9c5ab785cbb</th>\n",
       "      <td>0.492975</td>\n",
       "    </tr>\n",
       "    <tr>\n",
       "      <th>n002ccf6d0e8c5ad</th>\n",
       "      <td>0.737255</td>\n",
       "    </tr>\n",
       "    <tr>\n",
       "      <th>n0051ab821295c29</th>\n",
       "      <td>0.354125</td>\n",
       "    </tr>\n",
       "    <tr>\n",
       "      <th>...</th>\n",
       "      <td>...</td>\n",
       "    </tr>\n",
       "    <tr>\n",
       "      <th>nffcf1b2f7ae1bcc</th>\n",
       "      <td>0.278710</td>\n",
       "    </tr>\n",
       "    <tr>\n",
       "      <th>nffcf5878d59ce3a</th>\n",
       "      <td>0.552145</td>\n",
       "    </tr>\n",
       "    <tr>\n",
       "      <th>nffdfeb228cda39f</th>\n",
       "      <td>0.435515</td>\n",
       "    </tr>\n",
       "    <tr>\n",
       "      <th>nffe33484b9de099</th>\n",
       "      <td>0.415140</td>\n",
       "    </tr>\n",
       "    <tr>\n",
       "      <th>nfffbcd69b65bc3a</th>\n",
       "      <td>0.630470</td>\n",
       "    </tr>\n",
       "  </tbody>\n",
       "</table>\n",
       "<p>1412942 rows × 1 columns</p>\n",
       "</div>"
      ],
      "text/plain": [
       "                  prediction\n",
       "id                          \n",
       "n000101811a8a843    0.266355\n",
       "n001e1318d5072ac    0.420745\n",
       "n002a9c5ab785cbb    0.492975\n",
       "n002ccf6d0e8c5ad    0.737255\n",
       "n0051ab821295c29    0.354125\n",
       "...                      ...\n",
       "nffcf1b2f7ae1bcc    0.278710\n",
       "nffcf5878d59ce3a    0.552145\n",
       "nffdfeb228cda39f    0.435515\n",
       "nffe33484b9de099    0.415140\n",
       "nfffbcd69b65bc3a    0.630470\n",
       "\n",
       "[1412942 rows x 1 columns]"
      ]
     },
     "execution_count": 9,
     "metadata": {},
     "output_type": "execute_result"
    }
   ],
   "source": [
    "ensemble_preds"
   ]
  },
  {
   "cell_type": "code",
   "execution_count": 10,
   "id": "a63ed815-45c1-4d6a-a39b-4c2e5bb95283",
   "metadata": {
    "pycharm": {
     "name": "#%%\n"
    }
   },
   "outputs": [],
   "source": [
    "ensemble_preds.to_csv('ensemble.csv')\n"
   ]
  }
 ],
 "metadata": {
  "kernelspec": {
   "display_name": "Python 3",
   "language": "python",
   "name": "python3"
  },
  "language_info": {
   "codemirror_mode": {
    "name": "ipython",
    "version": 3
   },
   "file_extension": ".py",
   "mimetype": "text/x-python",
   "name": "python",
   "nbconvert_exporter": "python",
   "pygments_lexer": "ipython3",
   "version": "3.7.12"
  }
 },
 "nbformat": 4,
 "nbformat_minor": 5
}